{
  "cells": [
    {
      "cell_type": "markdown",
      "metadata": {
        "id": "view-in-github",
        "colab_type": "text"
      },
      "source": [
        "<a href=\"https://colab.research.google.com/github/camilo-avendano1/Clases-Deep-Learning/blob/main/U2_LAB_01_Customized_loss_functions_and_regularization.ipynb\" target=\"_parent\"><img src=\"https://colab.research.google.com/assets/colab-badge.svg\" alt=\"Open In Colab\"/></a>"
      ]
    },
    {
      "cell_type": "markdown",
      "metadata": {
        "id": "UX7CFJfSzF8v"
      },
      "source": [
        "# LAB 2.1 - Customized loss function"
      ]
    },
    {
      "cell_type": "code",
      "execution_count": 1,
      "metadata": {
        "colab": {
          "base_uri": "https://localhost:8080/",
          "height": 58
        },
        "id": "45CV2cLmzF8x",
        "outputId": "99393b99-aa58-46d8-d199-f7e689706564"
      },
      "outputs": [
        {
          "output_type": "display_data",
          "data": {
            "text/plain": [
              "<IPython.core.display.HTML object>"
            ],
            "text/html": [
              "\n",
              "<meta name=\"google-signin-client_id\"\n",
              "      content=\"461673936472-kdjosv61up3ac1ajeuq6qqu72upilmls.apps.googleusercontent.com\"/>\n",
              "<script src=\"https://apis.google.com/js/client:platform.js?onload=google_button_start\"></script>\n",
              "    "
            ]
          },
          "metadata": {}
        },
        {
          "output_type": "execute_result",
          "data": {
            "text/plain": [
              "<IPython.core.display.HTML object>"
            ],
            "text/html": [
              "<h3>See <a href='https://m5knaekxo6.execute-api.us-west-2.amazonaws.com/dev-v0001/rlxmooc/web/login' target='_blank'>my courses and progress</a></h2>"
            ]
          },
          "metadata": {},
          "execution_count": 1
        }
      ],
      "source": [
        "!wget -nc --no-cache -O init.py -q https://raw.githubusercontent.com/rramosp/2021.deeplearning/main/content/init.py\n",
        "import init; init.init(force_download=False); init.get_weblink()"
      ]
    },
    {
      "cell_type": "code",
      "source": [
        "!pip install tensorflow==2.15"
      ],
      "metadata": {
        "colab": {
          "base_uri": "https://localhost:8080/"
        },
        "id": "TrcLJph_ClBB",
        "outputId": "5923fb14-f16e-47de-f7e4-06253ed45285"
      },
      "execution_count": 27,
      "outputs": [
        {
          "output_type": "stream",
          "name": "stdout",
          "text": [
            "Requirement already satisfied: tensorflow==2.15 in /usr/local/lib/python3.10/dist-packages (2.15.0)\n",
            "Requirement already satisfied: absl-py>=1.0.0 in /usr/local/lib/python3.10/dist-packages (from tensorflow==2.15) (1.4.0)\n",
            "Requirement already satisfied: astunparse>=1.6.0 in /usr/local/lib/python3.10/dist-packages (from tensorflow==2.15) (1.6.3)\n",
            "Requirement already satisfied: flatbuffers>=23.5.26 in /usr/local/lib/python3.10/dist-packages (from tensorflow==2.15) (24.3.25)\n",
            "Requirement already satisfied: gast!=0.5.0,!=0.5.1,!=0.5.2,>=0.2.1 in /usr/local/lib/python3.10/dist-packages (from tensorflow==2.15) (0.6.0)\n",
            "Requirement already satisfied: google-pasta>=0.1.1 in /usr/local/lib/python3.10/dist-packages (from tensorflow==2.15) (0.2.0)\n",
            "Requirement already satisfied: h5py>=2.9.0 in /usr/local/lib/python3.10/dist-packages (from tensorflow==2.15) (3.11.0)\n",
            "Requirement already satisfied: libclang>=13.0.0 in /usr/local/lib/python3.10/dist-packages (from tensorflow==2.15) (18.1.1)\n",
            "Requirement already satisfied: ml-dtypes~=0.2.0 in /usr/local/lib/python3.10/dist-packages (from tensorflow==2.15) (0.2.0)\n",
            "Requirement already satisfied: numpy<2.0.0,>=1.23.5 in /usr/local/lib/python3.10/dist-packages (from tensorflow==2.15) (1.26.4)\n",
            "Requirement already satisfied: opt-einsum>=2.3.2 in /usr/local/lib/python3.10/dist-packages (from tensorflow==2.15) (3.3.0)\n",
            "Requirement already satisfied: packaging in /usr/local/lib/python3.10/dist-packages (from tensorflow==2.15) (24.1)\n",
            "Requirement already satisfied: protobuf!=4.21.0,!=4.21.1,!=4.21.2,!=4.21.3,!=4.21.4,!=4.21.5,<5.0.0dev,>=3.20.3 in /usr/local/lib/python3.10/dist-packages (from tensorflow==2.15) (3.20.3)\n",
            "Requirement already satisfied: setuptools in /usr/local/lib/python3.10/dist-packages (from tensorflow==2.15) (71.0.4)\n",
            "Requirement already satisfied: six>=1.12.0 in /usr/local/lib/python3.10/dist-packages (from tensorflow==2.15) (1.16.0)\n",
            "Requirement already satisfied: termcolor>=1.1.0 in /usr/local/lib/python3.10/dist-packages (from tensorflow==2.15) (2.4.0)\n",
            "Requirement already satisfied: typing-extensions>=3.6.6 in /usr/local/lib/python3.10/dist-packages (from tensorflow==2.15) (4.12.2)\n",
            "Requirement already satisfied: wrapt<1.15,>=1.11.0 in /usr/local/lib/python3.10/dist-packages (from tensorflow==2.15) (1.14.1)\n",
            "Requirement already satisfied: tensorflow-io-gcs-filesystem>=0.23.1 in /usr/local/lib/python3.10/dist-packages (from tensorflow==2.15) (0.37.1)\n",
            "Requirement already satisfied: grpcio<2.0,>=1.24.3 in /usr/local/lib/python3.10/dist-packages (from tensorflow==2.15) (1.64.1)\n",
            "Requirement already satisfied: tensorboard<2.16,>=2.15 in /usr/local/lib/python3.10/dist-packages (from tensorflow==2.15) (2.15.2)\n",
            "Requirement already satisfied: tensorflow-estimator<2.16,>=2.15.0 in /usr/local/lib/python3.10/dist-packages (from tensorflow==2.15) (2.15.0)\n",
            "Requirement already satisfied: keras<2.16,>=2.15.0 in /usr/local/lib/python3.10/dist-packages (from tensorflow==2.15) (2.15.0)\n",
            "Requirement already satisfied: wheel<1.0,>=0.23.0 in /usr/local/lib/python3.10/dist-packages (from astunparse>=1.6.0->tensorflow==2.15) (0.44.0)\n",
            "Requirement already satisfied: google-auth<3,>=1.6.3 in /usr/local/lib/python3.10/dist-packages (from tensorboard<2.16,>=2.15->tensorflow==2.15) (2.27.0)\n",
            "Requirement already satisfied: google-auth-oauthlib<2,>=0.5 in /usr/local/lib/python3.10/dist-packages (from tensorboard<2.16,>=2.15->tensorflow==2.15) (1.2.1)\n",
            "Requirement already satisfied: markdown>=2.6.8 in /usr/local/lib/python3.10/dist-packages (from tensorboard<2.16,>=2.15->tensorflow==2.15) (3.7)\n",
            "Requirement already satisfied: requests<3,>=2.21.0 in /usr/local/lib/python3.10/dist-packages (from tensorboard<2.16,>=2.15->tensorflow==2.15) (2.32.3)\n",
            "Requirement already satisfied: tensorboard-data-server<0.8.0,>=0.7.0 in /usr/local/lib/python3.10/dist-packages (from tensorboard<2.16,>=2.15->tensorflow==2.15) (0.7.2)\n",
            "Requirement already satisfied: werkzeug>=1.0.1 in /usr/local/lib/python3.10/dist-packages (from tensorboard<2.16,>=2.15->tensorflow==2.15) (3.0.4)\n",
            "Requirement already satisfied: cachetools<6.0,>=2.0.0 in /usr/local/lib/python3.10/dist-packages (from google-auth<3,>=1.6.3->tensorboard<2.16,>=2.15->tensorflow==2.15) (5.5.0)\n",
            "Requirement already satisfied: pyasn1-modules>=0.2.1 in /usr/local/lib/python3.10/dist-packages (from google-auth<3,>=1.6.3->tensorboard<2.16,>=2.15->tensorflow==2.15) (0.4.0)\n",
            "Requirement already satisfied: rsa<5,>=3.1.4 in /usr/local/lib/python3.10/dist-packages (from google-auth<3,>=1.6.3->tensorboard<2.16,>=2.15->tensorflow==2.15) (4.9)\n",
            "Requirement already satisfied: requests-oauthlib>=0.7.0 in /usr/local/lib/python3.10/dist-packages (from google-auth-oauthlib<2,>=0.5->tensorboard<2.16,>=2.15->tensorflow==2.15) (1.3.1)\n",
            "Requirement already satisfied: charset-normalizer<4,>=2 in /usr/local/lib/python3.10/dist-packages (from requests<3,>=2.21.0->tensorboard<2.16,>=2.15->tensorflow==2.15) (3.3.2)\n",
            "Requirement already satisfied: idna<4,>=2.5 in /usr/local/lib/python3.10/dist-packages (from requests<3,>=2.21.0->tensorboard<2.16,>=2.15->tensorflow==2.15) (3.7)\n",
            "Requirement already satisfied: urllib3<3,>=1.21.1 in /usr/local/lib/python3.10/dist-packages (from requests<3,>=2.21.0->tensorboard<2.16,>=2.15->tensorflow==2.15) (2.0.7)\n",
            "Requirement already satisfied: certifi>=2017.4.17 in /usr/local/lib/python3.10/dist-packages (from requests<3,>=2.21.0->tensorboard<2.16,>=2.15->tensorflow==2.15) (2024.7.4)\n",
            "Requirement already satisfied: MarkupSafe>=2.1.1 in /usr/local/lib/python3.10/dist-packages (from werkzeug>=1.0.1->tensorboard<2.16,>=2.15->tensorflow==2.15) (2.1.5)\n",
            "Requirement already satisfied: pyasn1<0.7.0,>=0.4.6 in /usr/local/lib/python3.10/dist-packages (from pyasn1-modules>=0.2.1->google-auth<3,>=1.6.3->tensorboard<2.16,>=2.15->tensorflow==2.15) (0.6.0)\n",
            "Requirement already satisfied: oauthlib>=3.0.0 in /usr/local/lib/python3.10/dist-packages (from requests-oauthlib>=0.7.0->google-auth-oauthlib<2,>=0.5->tensorboard<2.16,>=2.15->tensorflow==2.15) (3.2.2)\n"
          ]
        }
      ]
    },
    {
      "cell_type": "code",
      "execution_count": 3,
      "metadata": {
        "scrolled": true,
        "colab": {
          "base_uri": "https://localhost:8080/",
          "height": 117,
          "referenced_widgets": [
            "9b570f5b611749d9bb2538a5bffa0239",
            "f9e79b24f1614ae8b63bf093f39b717d",
            "7934123bc1c14b7cb066debb8e2fe3ca",
            "7e215d44da2945ddb8b9088e39a399d6",
            "84a7111d457641cfa4d45ce047490a42",
            "842e1d6abc3b4f91a516b1873045ed9c",
            "b92ac35223cd43daac632b0f54c60d92",
            "45bd9316265f4bcb8b5d237c055df7c2",
            "7b3347c13e9f4b2e9c2172cd2e06a3a9",
            "c301c65129394f9bbd4386d1aaa0d1cc",
            "26383ec6c80047ee878b2bcdb36aa6c2",
            "7f8a03b588224cd5b70759a44dcd69a9",
            "43fdd67f143b4eb7a85447aa6227360e",
            "a1882bf157194b50a8822f6fec7ab759",
            "8bffc10e558d456b914771fccc3d5aa4",
            "869fec2a5ed2470999ec6702c4f673fc",
            "09e67351c03b4fd481b4bf0973ef9842",
            "52297c21e539499e9e0911f8a1774bea",
            "b49d39252d974a8cb5f9791768950919"
          ]
        },
        "id": "OZrqeHGyzF8y",
        "outputId": "5dc1a5c3-8816-4951-c463-f81eb0097b3f"
      },
      "outputs": [
        {
          "output_type": "stream",
          "name": "stdout",
          "text": [
            "logging in as camilo.avendano1@udea.edu.co... please wait\n",
            "using course session 2021.deeplearning::udea.20242\n",
            "success!! you are logged in\n"
          ]
        }
      ],
      "source": [
        "from local.lib.rlxmoocapi import submit, session\n",
        "import inspect\n",
        "session.LoginSequence(endpoint=init.endpoint, course_id=init.course_id, lab_id=\"L02.01\", varname=\"student\");"
      ]
    },
    {
      "cell_type": "markdown",
      "metadata": {
        "id": "5P50b-OhzF8y"
      },
      "source": [
        "## Loading the Fashion MNIST database..."
      ]
    },
    {
      "cell_type": "code",
      "execution_count": 4,
      "metadata": {
        "colab": {
          "base_uri": "https://localhost:8080/",
          "height": 35
        },
        "id": "JgHv56sfzF8z",
        "outputId": "aefd1073-fdc7-47fd-bf5d-4ad1ae2d303f"
      },
      "outputs": [
        {
          "output_type": "execute_result",
          "data": {
            "text/plain": [
              "'2.15.0'"
            ],
            "application/vnd.google.colaboratory.intrinsic+json": {
              "type": "string"
            }
          },
          "metadata": {},
          "execution_count": 4
        }
      ],
      "source": [
        "import os\n",
        "import gzip\n",
        "import numpy as np\n",
        "import matplotlib.pyplot as plt\n",
        "import warnings; warnings.simplefilter('ignore')\n",
        "import tensorflow as tf\n",
        "tf.__version__"
      ]
    },
    {
      "cell_type": "code",
      "execution_count": 5,
      "metadata": {
        "id": "2CUwQIYbzF8z"
      },
      "outputs": [],
      "source": [
        "from tensorflow.keras import datasets\n",
        "(x_train, y_train), (x_test, y_test) = datasets.fashion_mnist.load_data()\n",
        "X_train = x_train.reshape(x_train.shape[0],x_train.shape[1]*x_train.shape[2])\n",
        "X_test = x_test.reshape(x_test.shape[0],x_test.shape[1]*x_test.shape[2])"
      ]
    },
    {
      "cell_type": "code",
      "execution_count": 6,
      "metadata": {
        "id": "Iq9U2PQdzF8z"
      },
      "outputs": [],
      "source": [
        "import tensorflow as tf\n",
        "from tensorflow.keras import utils\n",
        "from sklearn.preprocessing import StandardScaler\n",
        "\n",
        "input_dim = X_train.shape[1]\n",
        "\n",
        "scaler = StandardScaler()\n",
        "X_trainN = scaler.fit_transform(X_train)\n",
        "X_testN = scaler.transform(X_test)\n",
        "\n",
        "# convert list of labels to binary class matrix\n",
        "y_trainOHE = utils.to_categorical(y_train)\n",
        "nb_classes = y_trainOHE.shape[1]"
      ]
    },
    {
      "cell_type": "markdown",
      "metadata": {
        "id": "Uis2hQ9rzF80"
      },
      "source": [
        "## TASK 1. Basic model\n",
        "\n",
        "Define a new model using the keras sequential API. The model must have four hidden layers with the following neurons `[128,64,32,16]`. Comply with the following:\n",
        "\n",
        "- For all the hidden layers use the `relu` activation function.\n",
        "- Use `nb_classes` and `softmax` activation for the output layer.\n",
        "- Specify all activations as part of the `Dense` layer parameter, not as a separate layer.\n",
        "- You must return an instance of a `Sequential` model.\n",
        "- **DO NOT** invoke `compile` or `fit`.\n",
        "\n",
        "Your model structure should be as follows\n",
        "\n",
        "<pre>\n",
        "Model: \"sequential_64\"\n",
        "_________________________________________________________________\n",
        "Layer (type)                 Output Shape              Param #   \n",
        "=================================================================\n",
        "dense_308 (Dense)            (None, 128)               100480    \n",
        "_________________________________________________________________\n",
        "dense_309 (Dense)            (None, 64)                8256      \n",
        "_________________________________________________________________\n",
        "dense_310 (Dense)            (None, 32)                2080      \n",
        "_________________________________________________________________\n",
        "dense_311 (Dense)            (None, 16)                528       \n",
        "_________________________________________________________________\n",
        "dense_312 (Dense)            (None, 10)                170       \n",
        "=================================================================\n",
        "Total params: 111,514\n",
        "Trainable params: 111,514\n",
        "Non-trainable params: 0\n",
        "_________________________________________________________________\n",
        "\n",
        "</pre>"
      ]
    },
    {
      "cell_type": "code",
      "execution_count": 6,
      "metadata": {
        "id": "PLesGuv8zF80"
      },
      "outputs": [],
      "source": []
    },
    {
      "cell_type": "code",
      "execution_count": 7,
      "metadata": {
        "id": "yPF6s6AezF80"
      },
      "outputs": [],
      "source": [
        "def get_basic_model(input_dim, nb_classes):\n",
        "    from tensorflow.keras.models import Sequential\n",
        "    from tensorflow.keras.layers import Dense\n",
        "\n",
        "    model =    model = Sequential([\n",
        "        Dense(128, activation='relu', input_dim=input_dim),\n",
        "        Dense(64, activation='relu'),\n",
        "        Dense(32, activation='relu'),\n",
        "        Dense(16, activation='relu'),\n",
        "        Dense(nb_classes, activation='softmax')\n",
        "    ])\n",
        "\n",
        "\n",
        "    return model"
      ]
    },
    {
      "cell_type": "code",
      "execution_count": 8,
      "metadata": {
        "colab": {
          "base_uri": "https://localhost:8080/"
        },
        "id": "7hYz-1C_zF81",
        "outputId": "9e0023cc-9eaa-4265-d06b-983f325e5559"
      },
      "outputs": [
        {
          "output_type": "stream",
          "name": "stdout",
          "text": [
            "Model: \"sequential\"\n",
            "_________________________________________________________________\n",
            " Layer (type)                Output Shape              Param #   \n",
            "=================================================================\n",
            " dense (Dense)               (None, 128)               100480    \n",
            "                                                                 \n",
            " dense_1 (Dense)             (None, 64)                8256      \n",
            "                                                                 \n",
            " dense_2 (Dense)             (None, 32)                2080      \n",
            "                                                                 \n",
            " dense_3 (Dense)             (None, 16)                528       \n",
            "                                                                 \n",
            " dense_4 (Dense)             (None, 10)                170       \n",
            "                                                                 \n",
            "=================================================================\n",
            "Total params: 111514 (435.60 KB)\n",
            "Trainable params: 111514 (435.60 KB)\n",
            "Non-trainable params: 0 (0.00 Byte)\n",
            "_________________________________________________________________\n"
          ]
        }
      ],
      "source": [
        "model = get_basic_model(input_dim=784, nb_classes=10)\n",
        "model.summary()"
      ]
    },
    {
      "cell_type": "markdown",
      "metadata": {
        "id": "ooxWSFDszF81"
      },
      "source": [
        "**Registra tu solución en linea**"
      ]
    },
    {
      "cell_type": "code",
      "execution_count": 9,
      "metadata": {
        "colab": {
          "base_uri": "https://localhost:8080/",
          "height": 111
        },
        "id": "qSB141lJzF81",
        "outputId": "0f3324c7-7700-4404-ea2a-b2aca4e74fd4"
      },
      "outputs": [
        {
          "output_type": "display_data",
          "data": {
            "text/plain": [
              "<IPython.core.display.HTML object>"
            ],
            "text/html": [
              "\n",
              "                    <b>T1 submitted.</b> <b><font color=\"blue\">your grade is 5</font></b> \n",
              "                    <p/><pre>----- grader message -------</pre><b>correct</b><pre>----------------------------</pre>\n",
              "                    <p/><p/>\n",
              "                    <div style=\"font-size:10px\"><b>SUBMISSION CODE</b> 4Z1MOtepkMGB3J1Qgtk1wPllB9CoSwwG0PUgOYJ89q2UHUbkKYsIiGONiPZfpYKKuDePLw7/Kiny0U4Qlwyt8EFnLdLUcoqzTM4Qd4mDYJbDbyIF4OBY0LUrJRfslkn0GYbU/LkZMTFXhtZsfiEKrPXokssWDMAEV+jtuw9iVKg=</div>\n",
              "                    "
            ]
          },
          "metadata": {}
        }
      ],
      "source": [
        "student.submit_task(namespace=globals(), task_id='T1');"
      ]
    },
    {
      "cell_type": "markdown",
      "metadata": {
        "id": "8AueLkb7zF81"
      },
      "source": [
        "Run the following cells to train and test the model."
      ]
    },
    {
      "cell_type": "code",
      "execution_count": 10,
      "metadata": {
        "id": "X1ZKxwoTzF81"
      },
      "outputs": [],
      "source": [
        "model = get_basic_model(input_dim=784, nb_classes=10)"
      ]
    },
    {
      "cell_type": "code",
      "execution_count": 11,
      "metadata": {
        "colab": {
          "base_uri": "https://localhost:8080/"
        },
        "id": "pKvpSZ3HzF81",
        "outputId": "98b0d0e1-3ca5-4476-9f25-812ad200c2cc"
      },
      "outputs": [
        {
          "output_type": "stream",
          "name": "stdout",
          "text": [
            "Accuracy = 77.31%\n"
          ]
        }
      ],
      "source": [
        "from tensorflow.keras import regularizers, optimizers\n",
        "\n",
        "# or instantiate an optimizer before passing it to model.compile\n",
        "sgd = optimizers.SGD(learning_rate=0.01, momentum=0.9, nesterov=True)\n",
        "model.compile(loss='categorical_crossentropy', optimizer=sgd)\n",
        "model.fit(X_trainN[:500,:], y_trainOHE[:500,:], epochs=1000, batch_size=16, validation_split=0, verbose=0)\n",
        "\n",
        "preds = model.predict(X_testN, verbose=0)\n",
        "preds = np.argmax(preds,axis=1)\n",
        "Accuracy = np.mean(preds == y_test)\n",
        "print('Accuracy = %.2f%s'%(Accuracy*100, '%'))"
      ]
    },
    {
      "cell_type": "markdown",
      "metadata": {
        "id": "aAnB8IX_zF81"
      },
      "source": [
        "**UNGRADED TASK**: Create a graph with the histogram of the network weigths in the first hidden layer. It should look like the the following."
      ]
    },
    {
      "cell_type": "code",
      "execution_count": 12,
      "metadata": {
        "colab": {
          "base_uri": "https://localhost:8080/",
          "height": 265
        },
        "id": "y5j-ndxfzF82",
        "outputId": "b6e19c15-2d2f-44ec-b44e-9e52f2603e06"
      },
      "outputs": [
        {
          "output_type": "execute_result",
          "data": {
            "image/png": "[encoded data removed]",
            "text/plain": [
              "<IPython.core.display.Image object>"
            ]
          },
          "metadata": {},
          "execution_count": 12
        }
      ],
      "source": [
        "\n",
        "from IPython.display import Image\n",
        "Image(\"local/imgs/L21W1.png\")\n"
      ]
    },
    {
      "cell_type": "code",
      "execution_count": 13,
      "metadata": {
        "colab": {
          "base_uri": "https://localhost:8080/",
          "height": 432
        },
        "id": "099SszzPzF82",
        "outputId": "bbe25507-90be-43eb-94f4-4a72127efe7e"
      },
      "outputs": [
        {
          "output_type": "display_data",
          "data": {
            "text/plain": [
              "<Figure size 640x480 with 1 Axes>"
            ],
            "image/png": "[encoded data removed]"
          },
          "metadata": {}
        }
      ],
      "source": [
        "plt.hist(model.layers[0].get_weights()[0].flatten(), bins=100);\n"
      ]
    },
    {
      "cell_type": "markdown",
      "metadata": {
        "id": "AFdvAUjEzF82"
      },
      "source": [
        "## TASK 2: $L_2$ regularization\n",
        "\n",
        "Create a model like on TASK 1, but include $L_2$ regularization to every hidden layer (in `kernel_regularizer`) with a regularization parameter equal to 0.0001.\n",
        "\n",
        "Use [tf.keras.regularizers.L2](https://www.tensorflow.org/api_docs/python/tf/keras/regularizers/L2)"
      ]
    },
    {
      "cell_type": "code",
      "execution_count": 14,
      "metadata": {
        "id": "rAMJwf2xzF82"
      },
      "outputs": [],
      "source": [
        "def get_L2_model(input_dim, nb_classes):\n",
        "    from tensorflow.keras.models import Sequential\n",
        "    from tensorflow.keras.layers import Dense\n",
        "    from tensorflow.keras import regularizers\n",
        "\n",
        "    model = Sequential([\n",
        "        Dense(128, activation='relu', input_dim=input_dim, kernel_regularizer=regularizers.l2(0.0001)),\n",
        "        Dense(64, activation='relu', kernel_regularizer=regularizers.l2(0.0001)),\n",
        "        Dense(32, activation='relu', kernel_regularizer=regularizers.l2(0.0001)),\n",
        "        Dense(16, activation='relu', kernel_regularizer=regularizers.l2(0.0001)),\n",
        "        Dense(nb_classes, activation='softmax')\n",
        "    ])\n",
        "\n",
        "    return model\n"
      ]
    },
    {
      "cell_type": "code",
      "execution_count": 15,
      "metadata": {
        "colab": {
          "base_uri": "https://localhost:8080/"
        },
        "id": "zSR7Vq_lzF83",
        "outputId": "b9b63e93-6095-4c68-add5-56ef26d67c4a"
      },
      "outputs": [
        {
          "output_type": "stream",
          "name": "stdout",
          "text": [
            "Model: \"sequential_2\"\n",
            "_________________________________________________________________\n",
            " Layer (type)                Output Shape              Param #   \n",
            "=================================================================\n",
            " dense_10 (Dense)            (None, 128)               100480    \n",
            "                                                                 \n",
            " dense_11 (Dense)            (None, 64)                8256      \n",
            "                                                                 \n",
            " dense_12 (Dense)            (None, 32)                2080      \n",
            "                                                                 \n",
            " dense_13 (Dense)            (None, 16)                528       \n",
            "                                                                 \n",
            " dense_14 (Dense)            (None, 10)                170       \n",
            "                                                                 \n",
            "=================================================================\n",
            "Total params: 111514 (435.60 KB)\n",
            "Trainable params: 111514 (435.60 KB)\n",
            "Non-trainable params: 0 (0.00 Byte)\n",
            "_________________________________________________________________\n"
          ]
        }
      ],
      "source": [
        "model = get_L2_model(784, 10)\n",
        "model.summary()"
      ]
    },
    {
      "cell_type": "markdown",
      "metadata": {
        "id": "uvtoWWI-zF83"
      },
      "source": [
        "inspect layer regularizers"
      ]
    },
    {
      "cell_type": "code",
      "execution_count": 16,
      "metadata": {
        "colab": {
          "base_uri": "https://localhost:8080/"
        },
        "id": "BdgQH6xnzF83",
        "outputId": "f4288e2d-cbbe-40d3-dbcc-fa53261e9d1e"
      },
      "outputs": [
        {
          "output_type": "stream",
          "name": "stdout",
          "text": [
            "dense_10 --> <keras.src.regularizers.L2 object at 0x7e8b82a778b0>\n",
            "dense_11 --> <keras.src.regularizers.L2 object at 0x7e8b82a77d30>\n",
            "dense_12 --> <keras.src.regularizers.L2 object at 0x7e8b82a763e0>\n",
            "dense_13 --> <keras.src.regularizers.L2 object at 0x7e8b82a765f0>\n",
            "dense_14 --> None\n"
          ]
        }
      ],
      "source": [
        "for layer in model.layers:\n",
        "    print (layer.name, '-->', layer.kernel_regularizer)"
      ]
    },
    {
      "cell_type": "markdown",
      "metadata": {
        "id": "JsSOX9VKzF83"
      },
      "source": [
        "**Registra tu solución en linea**"
      ]
    },
    {
      "cell_type": "code",
      "execution_count": 17,
      "metadata": {
        "scrolled": true,
        "colab": {
          "base_uri": "https://localhost:8080/",
          "height": 111
        },
        "id": "o3Cr2XnDzF83",
        "outputId": "27c83120-9894-480c-db68-cc9104e62e55"
      },
      "outputs": [
        {
          "output_type": "display_data",
          "data": {
            "text/plain": [
              "<IPython.core.display.HTML object>"
            ],
            "text/html": [
              "\n",
              "                    <b>T2 submitted.</b> <b><font color=\"blue\">your grade is 5</font></b> \n",
              "                    <p/><pre>----- grader message -------</pre><b>correct</b><pre>----------------------------</pre>\n",
              "                    <p/><p/>\n",
              "                    <div style=\"font-size:10px\"><b>SUBMISSION CODE</b> JrbPi9YUorgMyLiWExuWK5exdhhMaJT7RG9UQPYSpnhz7lYJ14TMDTLnRAVqwS0Vira4P+/+2ZmR2LTC+S418lmGFgDXog1cDP5Zc8hfAOKCHBfXgbcumaDO5RNwO4NTCK/lSuzLDPI7MzfN0pLmHaycH8IqrdLuYXuLpm0PyzA=</div>\n",
              "                    "
            ]
          },
          "metadata": {}
        }
      ],
      "source": [
        "student.submit_task(namespace=globals(), task_id='T2');"
      ]
    },
    {
      "cell_type": "markdown",
      "metadata": {
        "id": "P5uOH9ArzF83"
      },
      "source": [
        "Run the following cell to train and test the model"
      ]
    },
    {
      "cell_type": "code",
      "execution_count": 18,
      "metadata": {
        "colab": {
          "base_uri": "https://localhost:8080/"
        },
        "id": "DaPFThfSzF83",
        "outputId": "cba36b35-a3c2-4cc2-a266-5950f3ccf240"
      },
      "outputs": [
        {
          "output_type": "stream",
          "name": "stdout",
          "text": [
            "Accuracy = 78.94%\n"
          ]
        }
      ],
      "source": [
        "from tensorflow.keras import optimizers\n",
        "model = get_L2_model(784, 10)\n",
        "\n",
        "# or instantiate an optimizer before passing it to model.compile\n",
        "sgd = optimizers.SGD(learning_rate=0.01, momentum=0.9, nesterov=True)\n",
        "model.compile(loss='categorical_crossentropy', optimizer=sgd)\n",
        "model.fit(X_trainN[:500,:], y_trainOHE[:500,:], epochs=1000, batch_size=16, validation_split=0, verbose=0)\n",
        "\n",
        "preds = model.predict(X_testN, verbose=0)\n",
        "preds = np.argmax(preds,axis=1)\n",
        "Accuracy = np.mean(preds == y_test)\n",
        "print('Accuracy = %.2f%s'%(Accuracy*100, '%'))"
      ]
    },
    {
      "cell_type": "markdown",
      "metadata": {
        "id": "n-XhiqJkzF83"
      },
      "source": [
        "**UNGRADED TASK**: Create a graph with the histogram of the network weigths in the first hidden layer. It should look like the the following.\n",
        "\n",
        "Compare it with the histogram obtained in the previous exercise. Is there any effect due to the regularization?"
      ]
    },
    {
      "cell_type": "code",
      "execution_count": 19,
      "metadata": {
        "colab": {
          "base_uri": "https://localhost:8080/",
          "height": 265
        },
        "id": "2dpY_yFCzF83",
        "outputId": "920b10f1-7c70-4347-b65b-7a32b5a539af"
      },
      "outputs": [
        {
          "output_type": "execute_result",
          "data": {
            "image/png": "[encoded data removed]",
            "text/plain": [
              "<IPython.core.display.Image object>"
            ]
          },
          "metadata": {},
          "execution_count": 19
        }
      ],
      "source": [
        "\n",
        "from IPython.display import Image\n",
        "Image(\"local/imgs/L21W2.png\")\n"
      ]
    },
    {
      "cell_type": "code",
      "execution_count": 20,
      "metadata": {
        "id": "gcDgR8tPzF84",
        "colab": {
          "base_uri": "https://localhost:8080/",
          "height": 985
        },
        "outputId": "5f9db33c-6e35-4616-8d8e-1ce30a130840"
      },
      "outputs": [
        {
          "output_type": "execute_result",
          "data": {
            "text/plain": [
              "(array([  1.,   0.,   0.,   0.,   0.,   0.,   0.,   0.,   1.,   0.,   0.,\n",
              "          1.,   1.,   1.,   1.,   3.,   9.,   5.,   6.,   8.,   9.,  16.,\n",
              "         20.,  36.,  43.,  64.,  75., 141., 136., 169., 142., 193., 171.,\n",
              "        168., 177., 189., 172., 182., 182., 168., 198., 172., 176., 195.,\n",
              "        166., 156., 175., 177., 195., 190., 172., 179., 156., 175., 175.,\n",
              "        185., 209., 164., 178., 188., 160., 180., 182., 170., 160., 159.,\n",
              "        151., 137., 136.,  96.,  96.,  73.,  85.,  61.,  49.,  38.,  37.,\n",
              "         34.,  20.,  19.,  18.,   9.,  12.,   5.,   9.,   5.,   3.,   2.,\n",
              "          6.,   1.,   3.,   0.,   1.,   0.,   1.,   2.,   0.,   0.,   0.,\n",
              "          1.]),\n",
              " array([-0.2156387 , -0.21112676, -0.20661482, -0.20210288, -0.19759095,\n",
              "        -0.19307901, -0.18856707, -0.18405513, -0.1795432 , -0.17503126,\n",
              "        -0.17051932, -0.16600738, -0.16149545, -0.15698352, -0.15247159,\n",
              "        -0.14795965, -0.14344771, -0.13893577, -0.13442384, -0.1299119 ,\n",
              "        -0.12539996, -0.12088802, -0.11637609, -0.11186415, -0.10735221,\n",
              "        -0.10284027, -0.09832834, -0.0938164 , -0.08930446, -0.08479252,\n",
              "        -0.08028059, -0.07576865, -0.07125672, -0.06674478, -0.06223284,\n",
              "        -0.05772091, -0.05320897, -0.04869703, -0.04418509, -0.03967316,\n",
              "        -0.03516122, -0.03064928, -0.02613735, -0.02162541, -0.01711347,\n",
              "        -0.01260154, -0.0080896 , -0.00357766,  0.00093427,  0.00544621,\n",
              "         0.00995815,  0.01447008,  0.01898202,  0.02349396,  0.0280059 ,\n",
              "         0.03251783,  0.03702977,  0.04154171,  0.04605364,  0.05056558,\n",
              "         0.05507752,  0.05958945,  0.06410139,  0.06861333,  0.07312527,\n",
              "         0.0776372 ,  0.08214914,  0.08666108,  0.09117302,  0.09568495,\n",
              "         0.10019688,  0.10470882,  0.10922076,  0.1137327 ,  0.11824463,\n",
              "         0.12275657,  0.12726851,  0.13178045,  0.13629238,  0.14080432,\n",
              "         0.14531626,  0.1498282 ,  0.15434013,  0.15885207,  0.16336401,\n",
              "         0.16787595,  0.17238788,  0.17689982,  0.18141174,  0.18592368,\n",
              "         0.19043562,  0.19494756,  0.19945949,  0.20397143,  0.20848337,\n",
              "         0.21299531,  0.21750724,  0.22201918,  0.22653112,  0.23104306,\n",
              "         0.23555499]),\n",
              " <BarContainer object of 100 artists>)"
            ]
          },
          "metadata": {},
          "execution_count": 20
        },
        {
          "output_type": "display_data",
          "data": {
            "text/plain": [
              "<Figure size 640x480 with 1 Axes>"
            ],
            "image/png": "[encoded data removed]"
          },
          "metadata": {}
        }
      ],
      "source": [
        "plt.hist(model.layers[1].get_weights()[0].flatten(), bins=100)\n"
      ]
    },
    {
      "cell_type": "markdown",
      "metadata": {
        "id": "YeaWzYPBzF84"
      },
      "source": [
        "## TASK 3: $L_1$+$L_2$ regularization\n",
        "\n",
        "Create a model like on TASK 1, but use $L_1$+$L_2$ regularization to every hidden layer (in `kernel_regularizer`) with both regularization parameters equal to 0.0001.\n",
        "\n",
        "Use [tf.keras.regularizers.L1L2](https://www.tensorflow.org/api_docs/python/tf/keras/regularizers/L1L2)"
      ]
    },
    {
      "cell_type": "code",
      "execution_count": 21,
      "metadata": {
        "id": "EfpPGv7NzF84"
      },
      "outputs": [],
      "source": [
        "def get_L1L2_model(input_dim, nb_classes):\n",
        "    from tensorflow.keras.models import Sequential\n",
        "    from tensorflow.keras.layers import Dense\n",
        "    from tensorflow.keras import regularizers\n",
        "    model = Sequential([\n",
        "        Dense(128, activation='relu', input_dim=input_dim,\n",
        "              kernel_regularizer=regularizers.l1_l2(l1=0.0001, l2=0.0001)),\n",
        "        Dense(64, activation='relu',\n",
        "              kernel_regularizer=regularizers.l1_l2(l1=0.0001, l2=0.0001)),\n",
        "        Dense(32, activation='relu',\n",
        "              kernel_regularizer=regularizers.l1_l2(l1=0.0001, l2=0.0001)),\n",
        "        Dense(16, activation='relu',\n",
        "              kernel_regularizer=regularizers.l1_l2(l1=0.0001, l2=0.0001)),\n",
        "        Dense(nb_classes, activation='softmax')\n",
        "    ])\n",
        "    return model"
      ]
    },
    {
      "cell_type": "code",
      "execution_count": 22,
      "metadata": {
        "colab": {
          "base_uri": "https://localhost:8080/"
        },
        "id": "ZkwUEE9FzF84",
        "outputId": "cc43beb0-253d-4cd9-bf21-ce1992a6a4eb"
      },
      "outputs": [
        {
          "output_type": "stream",
          "name": "stdout",
          "text": [
            "Model: \"sequential_4\"\n",
            "_________________________________________________________________\n",
            " Layer (type)                Output Shape              Param #   \n",
            "=================================================================\n",
            " dense_20 (Dense)            (None, 128)               100480    \n",
            "                                                                 \n",
            " dense_21 (Dense)            (None, 64)                8256      \n",
            "                                                                 \n",
            " dense_22 (Dense)            (None, 32)                2080      \n",
            "                                                                 \n",
            " dense_23 (Dense)            (None, 16)                528       \n",
            "                                                                 \n",
            " dense_24 (Dense)            (None, 10)                170       \n",
            "                                                                 \n",
            "=================================================================\n",
            "Total params: 111514 (435.60 KB)\n",
            "Trainable params: 111514 (435.60 KB)\n",
            "Non-trainable params: 0 (0.00 Byte)\n",
            "_________________________________________________________________\n"
          ]
        }
      ],
      "source": [
        "model = get_L1L2_model(784, 10)\n",
        "model.summary()"
      ]
    },
    {
      "cell_type": "markdown",
      "metadata": {
        "id": "P6uHGToazF84"
      },
      "source": [
        "inspect layer regularizers"
      ]
    },
    {
      "cell_type": "code",
      "execution_count": 23,
      "metadata": {
        "colab": {
          "base_uri": "https://localhost:8080/"
        },
        "id": "BBrxtPn9zF84",
        "outputId": "03c68149-a6d3-4264-bb14-568e0af33b8c"
      },
      "outputs": [
        {
          "output_type": "stream",
          "name": "stdout",
          "text": [
            "dense_20 --> <keras.src.regularizers.L1L2 object at 0x7e8b8273b2b0>\n",
            "dense_21 --> <keras.src.regularizers.L1L2 object at 0x7e8b82702050>\n",
            "dense_22 --> <keras.src.regularizers.L1L2 object at 0x7e8b82a9dab0>\n",
            "dense_23 --> <keras.src.regularizers.L1L2 object at 0x7e8b8273b100>\n",
            "dense_24 --> None\n"
          ]
        }
      ],
      "source": [
        "for layer in model.layers:\n",
        "    print (layer.name, '-->', layer.kernel_regularizer)"
      ]
    },
    {
      "cell_type": "markdown",
      "metadata": {
        "id": "c57A0BDrzF84"
      },
      "source": [
        "**Registra tu solución en linea**"
      ]
    },
    {
      "cell_type": "code",
      "execution_count": 24,
      "metadata": {
        "scrolled": true,
        "colab": {
          "base_uri": "https://localhost:8080/",
          "height": 111
        },
        "id": "7yYQiII8zF84",
        "outputId": "9e414db6-d5f6-4538-a87e-44f47cf72aeb"
      },
      "outputs": [
        {
          "output_type": "display_data",
          "data": {
            "text/plain": [
              "<IPython.core.display.HTML object>"
            ],
            "text/html": [
              "\n",
              "                    <b>T3 submitted.</b> <b><font color=\"blue\">your grade is 5</font></b> \n",
              "                    <p/><pre>----- grader message -------</pre><b>correct</b><pre>----------------------------</pre>\n",
              "                    <p/><p/>\n",
              "                    <div style=\"font-size:10px\"><b>SUBMISSION CODE</b> 1USS0Sw/fBuzmjbVztoqKvrw6KIjKPdB53RK783Za0a7SSrCpO/fjz6crvKXKPZVMyMWOUGvJqAV2zfRNQN3VbhAGs57Rr1wI3b/5SD6BEgQPFWaF8msg01QfXdDi3h2PjaIj4iawquUrNYNHYIhm4Gu5AsEf97PczoHgujXXic=</div>\n",
              "                    "
            ]
          },
          "metadata": {}
        }
      ],
      "source": [
        "student.submit_task(namespace=globals(), task_id='T3');"
      ]
    },
    {
      "cell_type": "markdown",
      "metadata": {
        "id": "vkxxO1XWzF85"
      },
      "source": [
        "Run the following cell to train and test the model"
      ]
    },
    {
      "cell_type": "code",
      "source": [
        "D"
      ],
      "metadata": {
        "id": "lo8u-e0KCF5A"
      },
      "execution_count": 24,
      "outputs": []
    },
    {
      "cell_type": "code",
      "execution_count": 33,
      "metadata": {
        "id": "H82ANk7mzF88",
        "colab": {
          "base_uri": "https://localhost:8080/"
        },
        "outputId": "fa8cf9f8-8c59-4832-838f-87bb69c5a250"
      },
      "outputs": [
        {
          "output_type": "stream",
          "name": "stdout",
          "text": [
            "Accuracy = 75.84%\n"
          ]
        }
      ],
      "source": [
        "from tensorflow.keras import optimizers\n",
        "model = get_L1L2_model(784, 10)\n",
        "\n",
        "# or instantiate an optimizer before passing it to model.compile\n",
        "sgd = tf.keras.optimizers.legacy.SGD(lr=0.01, decay=1e-6, momentum=0.9, nesterov=True)\n",
        "model.compile(loss='categorical_crossentropy', optimizer=sgd)\n",
        "model.fit(X_trainN[:500,:], y_trainOHE[:500,:], epochs=1000, batch_size=16, validation_split=0, verbose=0)\n",
        "\n",
        "preds = model.predict(X_testN, verbose=0)\n",
        "preds = np.argmax(preds,axis=1)\n",
        "Accuracy = np.mean(preds == y_test)\n",
        "print('Accuracy = %.2f%s'%(Accuracy*100, '%'))"
      ]
    },
    {
      "cell_type": "markdown",
      "metadata": {
        "id": "fIk41t_2zF88"
      },
      "source": [
        "**UNGRADED TASK**: Create a graph with the histogram of the network weigths in the first hidden layer. It should look like the the following.\n",
        "\n",
        "Compare it with the histograms obtained in the previous exercises. What is the effect of applying $L_1$ regularization?"
      ]
    },
    {
      "cell_type": "code",
      "source": [
        "\n",
        "!keras --version"
      ],
      "metadata": {
        "colab": {
          "base_uri": "https://localhost:8080/"
        },
        "id": "zhljtszkEjVf",
        "outputId": "6b69c8e8-2c2d-433d-e3f6-1eb08fd159a3"
      },
      "execution_count": 34,
      "outputs": [
        {
          "output_type": "stream",
          "name": "stdout",
          "text": [
            "/bin/bash: line 1: keras: command not found\n"
          ]
        }
      ]
    },
    {
      "cell_type": "code",
      "execution_count": 35,
      "metadata": {
        "id": "wRxgnewwzF88",
        "outputId": "3028f64b-b9cd-4b22-acd2-0333b4c1b6d1",
        "colab": {
          "base_uri": "https://localhost:8080/",
          "height": 265
        }
      },
      "outputs": [
        {
          "output_type": "execute_result",
          "data": {
            "image/png": "[encoded data removed]",
            "text/plain": [
              "<IPython.core.display.Image object>"
            ]
          },
          "metadata": {},
          "execution_count": 35
        }
      ],
      "source": [
        "\n",
        "from IPython.display import Image\n",
        "Image(\"local/imgs/L21W3.png\")\n"
      ]
    },
    {
      "cell_type": "code",
      "execution_count": null,
      "metadata": {
        "id": "HdBQgCwQzF89"
      },
      "outputs": [],
      "source": [
        "plt.hist(..., bins=100)"
      ]
    },
    {
      "cell_type": "markdown",
      "metadata": {
        "id": "78BF64s3zF89"
      },
      "source": [
        "Create a graph with the histogram of the network weigths in the first hidden layer. Compare it with the histograms obtained in the previous exercises. What is the effect of applying $L_1$ regularization?"
      ]
    },
    {
      "cell_type": "markdown",
      "metadata": {
        "id": "gwZofGtYzF89"
      },
      "source": [
        "### TASK 4: Customized loss function"
      ]
    },
    {
      "cell_type": "markdown",
      "metadata": {
        "id": "CFiCsZDgzF89"
      },
      "source": [
        "Complete the function below to implement the following loss function:\n",
        "\n",
        "$$\\mathcal{L}({\\bf{\\hat{y}}},{\\bf{y}}) = -\\frac{1}{N}\\sum_{i=1}^N \\sum_{j=1}^C {\\bf{1}}_{y_i \\in C_j} w_{j}\\log p_{model}[y_i \\in C_j]$$\n",
        "\n",
        "which corresponds to a weighted version of the categorical cross entropy loss function (take a look to the [section 2.2](https://rramosp.github.io/2021.deeplearning/content/U2.02%20-%20The%20Multilayer%20Perceptron.html#sequential-models) to remember the notation of the categorical cross-entropy loss function).\n",
        "\n",
        "Note the following observations:\n",
        "\n",
        "- the function below **returns a function** tied to a specific set of weights. This way we can create different loss functions tied to different weights.\n",
        "- you can assume `y_pred` to be the output of a **softmax** layer. This is, that for each `y` there is a predicted probability for each class $\\in [0,1]$ and summing all up to 1.\n",
        "- before using the `tf.mat.log` function, pass `y_pred` through [`tf.clip_by_value`](https://www.tensorflow.org/api_docs/python/tf/clip_by_value) to ensure any value is between `K.epsilon()` and `1-K.epsilon()`. This is to avoid extreme values close to `0` or close to `1` which might cause numerical issues.\n",
        "- both `y_pred` and `y_true` will be tensors of shape `(m,c)` with `m` being the number of data points and `c` the number of classes.\n",
        "- your answer must be accurate up to three decimal number.\n",
        "- use [`tf.reduce_mean`](https://www.tensorflow.org/api_docs/python/tf/math/reduce_mean) for the first summation, and [`tf.reduce_sum`](`https://www.tensorflow.org/api_docs/python/tf/math/reduce_sum`) for the second summation with the corresponding `axis` argument.\n",
        "\n",
        "**HINT**: experiment and understand `tf.reduce_mean` and `tf.reduce_sum` before implementing the function"
      ]
    },
    {
      "cell_type": "code",
      "execution_count": 36,
      "metadata": {
        "id": "_ZJGdNz0zF89",
        "colab": {
          "base_uri": "https://localhost:8080/"
        },
        "outputId": "4c5ed433-1a32-412b-d391-aaf695db56ba"
      },
      "outputs": [
        {
          "output_type": "execute_result",
          "data": {
            "text/plain": [
              "1e-07"
            ]
          },
          "metadata": {},
          "execution_count": 36
        }
      ],
      "source": [
        "from tensorflow.keras import backend as K\n",
        "K.epsilon()"
      ]
    },
    {
      "cell_type": "code",
      "execution_count": 37,
      "metadata": {
        "id": "OY0tvTFJzF89",
        "colab": {
          "base_uri": "https://localhost:8080/"
        },
        "outputId": "1262f08a-90b3-456b-9bf9-1cf8aaa92f95"
      },
      "outputs": [
        {
          "output_type": "stream",
          "name": "stdout",
          "text": [
            "[[69 93 25 20 25]\n",
            " [ 6 52 99 17 91]\n",
            " [97 85 45  8  8]]\n",
            "tf.Tensor(49, shape=(), dtype=int64)\n",
            "tf.Tensor([172 230 169  45 124], shape=(5,), dtype=int64)\n"
          ]
        }
      ],
      "source": [
        "z = np.random.randint(100, size=(3,5))\n",
        "print (z)\n",
        "print (tf.reduce_mean(z))\n",
        "print (tf.reduce_sum(z, axis=0))"
      ]
    },
    {
      "cell_type": "code",
      "execution_count": null,
      "metadata": {
        "id": "Soi-UMFfzF89"
      },
      "outputs": [],
      "source": []
    },
    {
      "cell_type": "code",
      "execution_count": 44,
      "metadata": {
        "id": "sjVLWDf3zF89"
      },
      "outputs": [],
      "source": [
        "import tensorflow as tf\n",
        "import numpy as np\n",
        "\n",
        "\n",
        "def weighted_categorical_crossentropy(weights):\n",
        "    from tensorflow.keras import backend as K\n",
        "    def loss_function(y_true, y_pred):\n",
        "        y_pred = tf.clip_by_value(y_pred, K.epsilon(), 1 - K.epsilon())\n",
        "\n",
        "        loss = -tf.reduce_mean(\n",
        "            tf.reduce_sum(\n",
        "                y_true * tf.math.log(y_pred) * weights, axis=-1\n",
        "            )\n",
        "        )\n",
        "        return loss\n",
        "    return loss_function\n"
      ]
    },
    {
      "cell_type": "markdown",
      "metadata": {
        "id": "gW6NdrO-zF89"
      },
      "source": [
        "manually test your code with the following cases"
      ]
    },
    {
      "cell_type": "code",
      "execution_count": 45,
      "metadata": {
        "id": "JWYeFGhBzF8-",
        "colab": {
          "base_uri": "https://localhost:8080/"
        },
        "outputId": "d2a46129-fbdf-4827-c100-0d9c1acc608a"
      },
      "outputs": [
        {
          "output_type": "stream",
          "name": "stdout",
          "text": [
            "loss 3.4065902\n",
            "loss 10.7990465\n"
          ]
        }
      ],
      "source": [
        "y_pred = np.array([[0.14285714, 0.        , 0.68367347, 0.17346939],\n",
        "                   [0.01020408, 0.60714286, 0.10204082, 0.28061224],\n",
        "                   [0.1733871 , 0.29435484, 0.24193548, 0.29032258],\n",
        "                   [0.25403226, 0.24596774, 0.19758065, 0.30241935],\n",
        "                   [0.52073733, 0.10138249, 0.11981567, 0.25806452],\n",
        "                   [0.47843137, 0.05882353, 0.24313725, 0.21960784]]).astype(np.float32)\n",
        "\n",
        "y_true = np.array([[0, 1, 0, 0],\n",
        "                   [0, 1, 0, 0],\n",
        "                   [0, 0, 0, 1],\n",
        "                   [0, 0, 0, 1],\n",
        "                   [1, 0, 0, 0],\n",
        "                   [1, 0, 0, 0]]).astype(np.float32)\n",
        "\n",
        "\n",
        "loss = weighted_categorical_crossentropy([1,1,1,1])\n",
        "print (\"loss\", loss(y_true, y_pred).numpy()) # this should return 3.4066\n",
        "loss = weighted_categorical_crossentropy([2,3,4,5])\n",
        "print (\"loss\", loss(y_true, y_pred).numpy()) # this should return 10.7990\n"
      ]
    },
    {
      "cell_type": "markdown",
      "metadata": {
        "id": "W3eR0QmzzF8-"
      },
      "source": [
        "test with random data"
      ]
    },
    {
      "cell_type": "code",
      "execution_count": 46,
      "metadata": {
        "id": "FW6MeaxkzF8-",
        "colab": {
          "base_uri": "https://localhost:8080/"
        },
        "outputId": "924d3c3c-dd6f-477b-e894-e2767a56eb18"
      },
      "outputs": [
        {
          "output_type": "stream",
          "name": "stdout",
          "text": [
            "y_true:\n",
            " [[0 0 1 0]\n",
            " [1 0 0 0]\n",
            " [0 0 0 1]\n",
            " [0 1 0 0]\n",
            " [0 0 0 1]\n",
            " [0 0 1 0]\n",
            " [0 1 0 0]\n",
            " [0 0 1 0]\n",
            " [0 0 0 1]]\n",
            "y_pred:\n",
            " [[0.         0.1686747  0.         0.83132532]\n",
            " [0.88043477 0.02173913 0.0326087  0.06521739]\n",
            " [0.11805555 0.44444443 0.1736111  0.26388888]\n",
            " [0.32954546 0.26704546 0.28977273 0.11363636]\n",
            " [0.09146342 0.31707317 0.07317073 0.51829269]\n",
            " [0.18257261 0.2572614  0.29045642 0.26970953]\n",
            " [0.10204081 0.36054421 0.37414965 0.1632653 ]\n",
            " [0.24050632 0.02531646 0.68354429 0.05063291]\n",
            " [0.23188407 0.09661836 0.29951692 0.37198069]]\n",
            "w: [7.06 1.88 8.19 6.77]\n",
            "\n",
            "loss:  18.967899404789993\n"
          ]
        }
      ],
      "source": [
        "m,c = np.random.randint(5)+5,np.random.randint(3)+2\n",
        "y_true = np.eye(c)[np.random.randint(c, size=m)].astype(int)\n",
        "y_pred = np.abs(y_true + np.round(np.random.random(size=(m,c)),2)*2 - .5)\n",
        "y_pred[0,np.argmax(y_true[0])]=0 # force some zero to check clipping\n",
        "y_pred /= np.sum(y_pred,axis=1).reshape(-1,1).astype(np.float32)\n",
        "\n",
        "w = np.round(np.random.random(size=c)*10+1,2)\n",
        "\n",
        "print(\"y_true:\\n\", y_true)\n",
        "print(\"y_pred:\\n\", y_pred)\n",
        "print (\"w:\", w)\n",
        "\n",
        "loss = weighted_categorical_crossentropy(w)\n",
        "\n",
        "print (\"\\nloss: \", loss(y_true, y_pred).numpy())"
      ]
    },
    {
      "cell_type": "markdown",
      "metadata": {
        "id": "--kvo_DVzF8-"
      },
      "source": [
        "**Registra tu solución en linea**"
      ]
    },
    {
      "cell_type": "code",
      "execution_count": 47,
      "metadata": {
        "id": "68WZdj53zF8-",
        "colab": {
          "base_uri": "https://localhost:8080/",
          "height": 111
        },
        "outputId": "3d74f0b3-b996-4e33-b479-2803fb045411"
      },
      "outputs": [
        {
          "output_type": "display_data",
          "data": {
            "text/plain": [
              "<IPython.core.display.HTML object>"
            ],
            "text/html": [
              "\n",
              "                    <b>T4 submitted.</b> <b><font color=\"blue\">your grade is 5</font></b> \n",
              "                    <p/><pre>----- grader message -------</pre><b>correct</b><pre>----------------------------</pre>\n",
              "                    <p/><p/>\n",
              "                    <div style=\"font-size:10px\"><b>SUBMISSION CODE</b> 63Br55s+laRpzXjXW+TMe1q08SIZPFPTdv5RrheErBoAwGXpqCwly3eAxlfGNhKSvtJoBRZhCJzLcZMy4T6r0vwnzjc3M9ejqKfnNkTWSamvOkcSDnWhKHO8VF0c7loJ2bLbuqJ9ZVDQyNYV6eA9g580B0k9Po7M0fQZowNPAac=</div>\n",
              "                    "
            ]
          },
          "metadata": {}
        }
      ],
      "source": [
        "student.submit_task(namespace=globals(), task_id='T4');"
      ]
    },
    {
      "cell_type": "code",
      "execution_count": null,
      "metadata": {
        "id": "C6KfCKVWzF8-"
      },
      "outputs": [],
      "source": []
    },
    {
      "cell_type": "markdown",
      "metadata": {
        "id": "lB6-TDB3zF8-"
      },
      "source": [
        "**UNGRADED TASK**\n",
        "\n",
        "**Test your loss function in model**. Use the weighted categorical cross entropy function to train the MLP model on the Fashion MNIST dataset with 2 hidden layers of 64 and 32 neurons respectively. Use the two sets of weights below. Evaluate the model with the test dataset and plot the confusion matrix.\n",
        "\n",
        "Your should get confusion matrices such as the ones below. Left is with `weights0`, center with `weights1` and right with `weights2`. Observe what classes improve their accuracy based on the weights."
      ]
    },
    {
      "cell_type": "code",
      "execution_count": 48,
      "metadata": {
        "id": "eIPI-gXozF8_",
        "outputId": "cc654333-143c-4bb3-dc18-5069b185626b",
        "colab": {
          "base_uri": "https://localhost:8080/",
          "height": 580
        }
      },
      "outputs": [
        {
          "output_type": "execute_result",
          "data": {
            "image/png": "[encoded data removed]",
            "text/plain": [
              "<IPython.core.display.Image object>"
            ]
          },
          "metadata": {},
          "execution_count": 48
        }
      ],
      "source": [
        "Image(\"local/imgs/L2.1_W.png\")"
      ]
    },
    {
      "cell_type": "code",
      "execution_count": 49,
      "metadata": {
        "id": "t4StKCYuzF8_"
      },
      "outputs": [],
      "source": [
        "weights0 = np.array([1,1,1,1,1,1,1,1,1,1])\n",
        "weights1 = np.array([1,1,1,1,1,1,4,1,1,1])\n",
        "weights2 = np.array([1.5,1,1,1,1,1,4,1,1,1])"
      ]
    },
    {
      "cell_type": "code",
      "execution_count": 50,
      "metadata": {
        "id": "2e2x0jICzF8_"
      },
      "outputs": [],
      "source": [
        "def confusion_matrix(y_true, y_pred):\n",
        "    from sklearn.metrics import confusion_matrix\n",
        "    objects = ('Ankle Boot', 'Bag', 'Sneaker', 'Shirt', 'Sandal', 'Coat', 'Dress', 'Pullover', 'Trouser', 'T-shirt/top')\n",
        "    cm = confusion_matrix(y_true, y_pred)\n",
        "    cm = cm/np.sum(cm,axis=1)\n",
        "    cmap = plt.cm.Blues\n",
        "    tick_marks = np.arange(nb_classes)\n",
        "    fig, ax = plt.subplots(figsize=(10,10))\n",
        "    im = ax.imshow(cm, interpolation='nearest', cmap=cmap)\n",
        "    for i in range(cm.shape[0]):\n",
        "        for j in range(cm.shape[1]):\n",
        "            text = ax.text(j, i, np.around(cm[i, j],decimals=2),\n",
        "                           ha=\"center\", va=\"center\", color=\"w\")\n",
        "    plt.title('Normalized confusion matrix')\n",
        "    fig.colorbar(im)\n",
        "    plt.xticks(tick_marks, objects, rotation=45)\n",
        "    plt.yticks(tick_marks, objects);"
      ]
    },
    {
      "cell_type": "code",
      "execution_count": null,
      "metadata": {
        "id": "5owy8zBWzF8_"
      },
      "outputs": [],
      "source": []
    },
    {
      "cell_type": "code",
      "execution_count": null,
      "metadata": {
        "id": "YmmB590fzF8_"
      },
      "outputs": [],
      "source": []
    },
    {
      "cell_type": "code",
      "execution_count": null,
      "metadata": {
        "id": "RkqkHWFHzF8_"
      },
      "outputs": [],
      "source": []
    }
  ],
  "metadata": {
    "kernelspec": {
      "display_name": "Python 3 (ipykernel)",
      "language": "python",
      "name": "python3"
    },
    "language_info": {
      "codemirror_mode": {
        "name": "ipython",
        "version": 3
      },
      "file_extension": ".py",
      "mimetype": "text/x-python",
      "name": "python",
      "nbconvert_exporter": "python",
      "pygments_lexer": "ipython3",
      "version": "3.10.8"
    },
    "varInspector": {
      "cols": {
        "lenName": 16,
        "lenType": 16,
        "lenVar": 40
      },
      "kernels_config": {
        "python": {
          "delete_cmd_postfix": "",
          "delete_cmd_prefix": "del ",
          "library": "var_list.py",
          "varRefreshCmd": "print(var_dic_list())"
        },
        "r": {
          "delete_cmd_postfix": ") ",
          "delete_cmd_prefix": "rm(",
          "library": "var_list.r",
          "varRefreshCmd": "cat(var_dic_list()) "
        }
      },
      "types_to_exclude": [
        "module",
        "function",
        "builtin_function_or_method",
        "instance",
        "_Feature"
      ],
      "window_display": false
    },
    "colab": {
      "provenance": [],
      "include_colab_link": true
    },
    "widgets": {
      "application/vnd.jupyter.widget-state+json": {
        "9b570f5b611749d9bb2538a5bffa0239": {
          "model_module": "@jupyter-widgets/controls",
          "model_name": "HBoxModel",
          "model_module_version": "1.5.0",
          "state": {
            "_dom_classes": [],
            "_model_module": "@jupyter-widgets/controls",
            "_model_module_version": "1.5.0",
            "_model_name": "HBoxModel",
            "_view_count": null,
            "_view_module": "@jupyter-widgets/controls",
            "_view_module_version": "1.5.0",
            "_view_name": "HBoxView",
            "box_style": "",
            "children": [
              "IPY_MODEL_f9e79b24f1614ae8b63bf093f39b717d",
              "IPY_MODEL_7934123bc1c14b7cb066debb8e2fe3ca",
              "IPY_MODEL_7e215d44da2945ddb8b9088e39a399d6",
              "IPY_MODEL_84a7111d457641cfa4d45ce047490a42"
            ],
            "layout": "IPY_MODEL_842e1d6abc3b4f91a516b1873045ed9c"
          }
        },
        "f9e79b24f1614ae8b63bf093f39b717d": {
          "model_module": "@jupyter-widgets/controls",
          "model_name": "VBoxModel",
          "model_module_version": "1.5.0",
          "state": {
            "_dom_classes": [],
            "_model_module": "@jupyter-widgets/controls",
            "_model_module_version": "1.5.0",
            "_model_name": "VBoxModel",
            "_view_count": null,
            "_view_module": "@jupyter-widgets/controls",
            "_view_module_version": "1.5.0",
            "_view_name": "VBoxView",
            "box_style": "",
            "children": [
              "IPY_MODEL_b92ac35223cd43daac632b0f54c60d92",
              "IPY_MODEL_45bd9316265f4bcb8b5d237c055df7c2"
            ],
            "layout": "IPY_MODEL_7b3347c13e9f4b2e9c2172cd2e06a3a9"
          }
        },
        "7934123bc1c14b7cb066debb8e2fe3ca": {
          "model_module": "@jupyter-widgets/controls",
          "model_name": "ButtonModel",
          "model_module_version": "1.5.0",
          "state": {
            "_dom_classes": [
              "login_button"
            ],
            "_model_module": "@jupyter-widgets/controls",
            "_model_module_version": "1.5.0",
            "_model_name": "ButtonModel",
            "_view_count": null,
            "_view_module": "@jupyter-widgets/controls",
            "_view_module_version": "1.5.0",
            "_view_name": "ButtonView",
            "button_style": "",
            "description": "Login with email",
            "disabled": false,
            "icon": "",
            "layout": "IPY_MODEL_c301c65129394f9bbd4386d1aaa0d1cc",
            "style": "IPY_MODEL_26383ec6c80047ee878b2bcdb36aa6c2",
            "tooltip": ""
          }
        },
        "7e215d44da2945ddb8b9088e39a399d6": {
          "model_module": "@jupyter-widgets/controls",
          "model_name": "HTMLModel",
          "model_module_version": "1.5.0",
          "state": {
            "_dom_classes": [],
            "_model_module": "@jupyter-widgets/controls",
            "_model_module_version": "1.5.0",
            "_model_name": "HTMLModel",
            "_view_count": null,
            "_view_module": "@jupyter-widgets/controls",
            "_view_module_version": "1.5.0",
            "_view_name": "HTMLView",
            "description": "",
            "description_tooltip": null,
            "layout": "IPY_MODEL_7f8a03b588224cd5b70759a44dcd69a9",
            "placeholder": "​",
            "style": "IPY_MODEL_43fdd67f143b4eb7a85447aa6227360e",
            "value": "<center><big>or</big></center>"
          }
        },
        "84a7111d457641cfa4d45ce047490a42": {
          "model_module": "@jupyter-widgets/controls",
          "model_name": "ButtonModel",
          "model_module_version": "1.5.0",
          "state": {
            "_dom_classes": [
              "google_button"
            ],
            "_model_module": "@jupyter-widgets/controls",
            "_model_module_version": "1.5.0",
            "_model_name": "ButtonModel",
            "_view_count": null,
            "_view_module": "@jupyter-widgets/controls",
            "_view_module_version": "1.5.0",
            "_view_name": "ButtonView",
            "button_style": "",
            "description": "Login with Google",
            "disabled": false,
            "icon": "",
            "layout": "IPY_MODEL_a1882bf157194b50a8822f6fec7ab759",
            "style": "IPY_MODEL_8bffc10e558d456b914771fccc3d5aa4",
            "tooltip": ""
          }
        },
        "842e1d6abc3b4f91a516b1873045ed9c": {
          "model_module": "@jupyter-widgets/base",
          "model_name": "LayoutModel",
          "model_module_version": "1.2.0",
          "state": {
            "_model_module": "@jupyter-widgets/base",
            "_model_module_version": "1.2.0",
            "_model_name": "LayoutModel",
            "_view_count": null,
            "_view_module": "@jupyter-widgets/base",
            "_view_module_version": "1.2.0",
            "_view_name": "LayoutView",
            "align_content": null,
            "align_items": null,
            "align_self": null,
            "border": null,
            "bottom": null,
            "display": null,
            "flex": null,
            "flex_flow": null,
            "grid_area": null,
            "grid_auto_columns": null,
            "grid_auto_flow": null,
            "grid_auto_rows": null,
            "grid_column": null,
            "grid_gap": null,
            "grid_row": null,
            "grid_template_areas": null,
            "grid_template_columns": null,
            "grid_template_rows": null,
            "height": null,
            "justify_content": null,
            "justify_items": null,
            "left": null,
            "margin": null,
            "max_height": null,
            "max_width": null,
            "min_height": null,
            "min_width": null,
            "object_fit": null,
            "object_position": null,
            "order": null,
            "overflow": null,
            "overflow_x": null,
            "overflow_y": null,
            "padding": null,
            "right": null,
            "top": null,
            "visibility": null,
            "width": null
          }
        },
        "b92ac35223cd43daac632b0f54c60d92": {
          "model_module": "@jupyter-widgets/controls",
          "model_name": "TextModel",
          "model_module_version": "1.5.0",
          "state": {
            "_dom_classes": [],
            "_model_module": "@jupyter-widgets/controls",
            "_model_module_version": "1.5.0",
            "_model_name": "TextModel",
            "_view_count": null,
            "_view_module": "@jupyter-widgets/controls",
            "_view_module_version": "1.5.0",
            "_view_name": "TextView",
            "continuous_update": true,
            "description": "email",
            "description_tooltip": null,
            "disabled": false,
            "layout": "IPY_MODEL_869fec2a5ed2470999ec6702c4f673fc",
            "placeholder": "​",
            "style": "IPY_MODEL_09e67351c03b4fd481b4bf0973ef9842",
            "value": ""
          }
        },
        "45bd9316265f4bcb8b5d237c055df7c2": {
          "model_module": "@jupyter-widgets/controls",
          "model_name": "PasswordModel",
          "model_module_version": "1.5.0",
          "state": {
            "_dom_classes": [],
            "_model_module": "@jupyter-widgets/controls",
            "_model_module_version": "1.5.0",
            "_model_name": "PasswordModel",
            "_view_count": null,
            "_view_module": "@jupyter-widgets/controls",
            "_view_module_version": "1.5.0",
            "_view_name": "PasswordView",
            "continuous_update": true,
            "description": "password",
            "description_tooltip": null,
            "disabled": false,
            "layout": "IPY_MODEL_52297c21e539499e9e0911f8a1774bea",
            "placeholder": "​",
            "style": "IPY_MODEL_b49d39252d974a8cb5f9791768950919",
            "value": ""
          }
        },
        "7b3347c13e9f4b2e9c2172cd2e06a3a9": {
          "model_module": "@jupyter-widgets/base",
          "model_name": "LayoutModel",
          "model_module_version": "1.2.0",
          "state": {
            "_model_module": "@jupyter-widgets/base",
            "_model_module_version": "1.2.0",
            "_model_name": "LayoutModel",
            "_view_count": null,
            "_view_module": "@jupyter-widgets/base",
            "_view_module_version": "1.2.0",
            "_view_name": "LayoutView",
            "align_content": null,
            "align_items": null,
            "align_self": null,
            "border": null,
            "bottom": null,
            "display": null,
            "flex": null,
            "flex_flow": null,
            "grid_area": null,
            "grid_auto_columns": null,
            "grid_auto_flow": null,
            "grid_auto_rows": null,
            "grid_column": null,
            "grid_gap": null,
            "grid_row": null,
            "grid_template_areas": null,
            "grid_template_columns": null,
            "grid_template_rows": null,
            "height": null,
            "justify_content": null,
            "justify_items": null,
            "left": null,
            "margin": null,
            "max_height": null,
            "max_width": null,
            "min_height": null,
            "min_width": null,
            "object_fit": null,
            "object_position": null,
            "order": null,
            "overflow": null,
            "overflow_x": null,
            "overflow_y": null,
            "padding": null,
            "right": null,
            "top": null,
            "visibility": null,
            "width": null
          }
        },
        "c301c65129394f9bbd4386d1aaa0d1cc": {
          "model_module": "@jupyter-widgets/base",
          "model_name": "LayoutModel",
          "model_module_version": "1.2.0",
          "state": {
            "_model_module": "@jupyter-widgets/base",
            "_model_module_version": "1.2.0",
            "_model_name": "LayoutModel",
            "_view_count": null,
            "_view_module": "@jupyter-widgets/base",
            "_view_module_version": "1.2.0",
            "_view_name": "LayoutView",
            "align_content": null,
            "align_items": null,
            "align_self": null,
            "border": null,
            "bottom": null,
            "display": null,
            "flex": null,
            "flex_flow": null,
            "grid_area": null,
            "grid_auto_columns": null,
            "grid_auto_flow": null,
            "grid_auto_rows": null,
            "grid_column": null,
            "grid_gap": null,
            "grid_row": null,
            "grid_template_areas": null,
            "grid_template_columns": null,
            "grid_template_rows": null,
            "height": "53px",
            "justify_content": null,
            "justify_items": null,
            "left": null,
            "margin": null,
            "max_height": null,
            "max_width": null,
            "min_height": null,
            "min_width": null,
            "object_fit": null,
            "object_position": null,
            "order": null,
            "overflow": null,
            "overflow_x": null,
            "overflow_y": null,
            "padding": null,
            "right": null,
            "top": null,
            "visibility": null,
            "width": "150px"
          }
        },
        "26383ec6c80047ee878b2bcdb36aa6c2": {
          "model_module": "@jupyter-widgets/controls",
          "model_name": "ButtonStyleModel",
          "model_module_version": "1.5.0",
          "state": {
            "_model_module": "@jupyter-widgets/controls",
            "_model_module_version": "1.5.0",
            "_model_name": "ButtonStyleModel",
            "_view_count": null,
            "_view_module": "@jupyter-widgets/base",
            "_view_module_version": "1.2.0",
            "_view_name": "StyleView",
            "button_color": null,
            "font_weight": ""
          }
        },
        "7f8a03b588224cd5b70759a44dcd69a9": {
          "model_module": "@jupyter-widgets/base",
          "model_name": "LayoutModel",
          "model_module_version": "1.2.0",
          "state": {
            "_model_module": "@jupyter-widgets/base",
            "_model_module_version": "1.2.0",
            "_model_name": "LayoutModel",
            "_view_count": null,
            "_view_module": "@jupyter-widgets/base",
            "_view_module_version": "1.2.0",
            "_view_name": "LayoutView",
            "align_content": null,
            "align_items": null,
            "align_self": null,
            "border": null,
            "bottom": null,
            "display": null,
            "flex": null,
            "flex_flow": null,
            "grid_area": null,
            "grid_auto_columns": null,
            "grid_auto_flow": null,
            "grid_auto_rows": null,
            "grid_column": null,
            "grid_gap": null,
            "grid_row": null,
            "grid_template_areas": null,
            "grid_template_columns": null,
            "grid_template_rows": null,
            "height": null,
            "justify_content": null,
            "justify_items": null,
            "left": null,
            "margin": null,
            "max_height": null,
            "max_width": null,
            "min_height": null,
            "min_width": null,
            "object_fit": null,
            "object_position": null,
            "order": null,
            "overflow": null,
            "overflow_x": null,
            "overflow_y": null,
            "padding": null,
            "right": null,
            "top": null,
            "visibility": null,
            "width": "100px"
          }
        },
        "43fdd67f143b4eb7a85447aa6227360e": {
          "model_module": "@jupyter-widgets/controls",
          "model_name": "DescriptionStyleModel",
          "model_module_version": "1.5.0",
          "state": {
            "_model_module": "@jupyter-widgets/controls",
            "_model_module_version": "1.5.0",
            "_model_name": "DescriptionStyleModel",
            "_view_count": null,
            "_view_module": "@jupyter-widgets/base",
            "_view_module_version": "1.2.0",
            "_view_name": "StyleView",
            "description_width": ""
          }
        },
        "a1882bf157194b50a8822f6fec7ab759": {
          "model_module": "@jupyter-widgets/base",
          "model_name": "LayoutModel",
          "model_module_version": "1.2.0",
          "state": {
            "_model_module": "@jupyter-widgets/base",
            "_model_module_version": "1.2.0",
            "_model_name": "LayoutModel",
            "_view_count": null,
            "_view_module": "@jupyter-widgets/base",
            "_view_module_version": "1.2.0",
            "_view_name": "LayoutView",
            "align_content": null,
            "align_items": null,
            "align_self": null,
            "border": null,
            "bottom": null,
            "display": null,
            "flex": null,
            "flex_flow": null,
            "grid_area": null,
            "grid_auto_columns": null,
            "grid_auto_flow": null,
            "grid_auto_rows": null,
            "grid_column": null,
            "grid_gap": null,
            "grid_row": null,
            "grid_template_areas": null,
            "grid_template_columns": null,
            "grid_template_rows": null,
            "height": "53px",
            "justify_content": null,
            "justify_items": null,
            "left": null,
            "margin": null,
            "max_height": null,
            "max_width": null,
            "min_height": null,
            "min_width": null,
            "object_fit": null,
            "object_position": null,
            "order": null,
            "overflow": null,
            "overflow_x": null,
            "overflow_y": null,
            "padding": null,
            "right": null,
            "top": null,
            "visibility": null,
            "width": "200px"
          }
        },
        "8bffc10e558d456b914771fccc3d5aa4": {
          "model_module": "@jupyter-widgets/controls",
          "model_name": "ButtonStyleModel",
          "model_module_version": "1.5.0",
          "state": {
            "_model_module": "@jupyter-widgets/controls",
            "_model_module_version": "1.5.0",
            "_model_name": "ButtonStyleModel",
            "_view_count": null,
            "_view_module": "@jupyter-widgets/base",
            "_view_module_version": "1.2.0",
            "_view_name": "StyleView",
            "button_color": null,
            "font_weight": ""
          }
        },
        "869fec2a5ed2470999ec6702c4f673fc": {
          "model_module": "@jupyter-widgets/base",
          "model_name": "LayoutModel",
          "model_module_version": "1.2.0",
          "state": {
            "_model_module": "@jupyter-widgets/base",
            "_model_module_version": "1.2.0",
            "_model_name": "LayoutModel",
            "_view_count": null,
            "_view_module": "@jupyter-widgets/base",
            "_view_module_version": "1.2.0",
            "_view_name": "LayoutView",
            "align_content": null,
            "align_items": null,
            "align_self": null,
            "border": null,
            "bottom": null,
            "display": null,
            "flex": null,
            "flex_flow": null,
            "grid_area": null,
            "grid_auto_columns": null,
            "grid_auto_flow": null,
            "grid_auto_rows": null,
            "grid_column": null,
            "grid_gap": null,
            "grid_row": null,
            "grid_template_areas": null,
            "grid_template_columns": null,
            "grid_template_rows": null,
            "height": "25px",
            "justify_content": null,
            "justify_items": null,
            "left": null,
            "margin": null,
            "max_height": null,
            "max_width": null,
            "min_height": null,
            "min_width": null,
            "object_fit": null,
            "object_position": null,
            "order": null,
            "overflow": null,
            "overflow_x": null,
            "overflow_y": null,
            "padding": null,
            "right": null,
            "top": null,
            "visibility": null,
            "width": "300px"
          }
        },
        "09e67351c03b4fd481b4bf0973ef9842": {
          "model_module": "@jupyter-widgets/controls",
          "model_name": "DescriptionStyleModel",
          "model_module_version": "1.5.0",
          "state": {
            "_model_module": "@jupyter-widgets/controls",
            "_model_module_version": "1.5.0",
            "_model_name": "DescriptionStyleModel",
            "_view_count": null,
            "_view_module": "@jupyter-widgets/base",
            "_view_module_version": "1.2.0",
            "_view_name": "StyleView",
            "description_width": ""
          }
        },
        "52297c21e539499e9e0911f8a1774bea": {
          "model_module": "@jupyter-widgets/base",
          "model_name": "LayoutModel",
          "model_module_version": "1.2.0",
          "state": {
            "_model_module": "@jupyter-widgets/base",
            "_model_module_version": "1.2.0",
            "_model_name": "LayoutModel",
            "_view_count": null,
            "_view_module": "@jupyter-widgets/base",
            "_view_module_version": "1.2.0",
            "_view_name": "LayoutView",
            "align_content": null,
            "align_items": null,
            "align_self": null,
            "border": null,
            "bottom": null,
            "display": null,
            "flex": null,
            "flex_flow": null,
            "grid_area": null,
            "grid_auto_columns": null,
            "grid_auto_flow": null,
            "grid_auto_rows": null,
            "grid_column": null,
            "grid_gap": null,
            "grid_row": null,
            "grid_template_areas": null,
            "grid_template_columns": null,
            "grid_template_rows": null,
            "height": "24px",
            "justify_content": null,
            "justify_items": null,
            "left": null,
            "margin": null,
            "max_height": null,
            "max_width": null,
            "min_height": null,
            "min_width": null,
            "object_fit": null,
            "object_position": null,
            "order": null,
            "overflow": null,
            "overflow_x": null,
            "overflow_y": null,
            "padding": null,
            "right": null,
            "top": null,
            "visibility": null,
            "width": "300px"
          }
        },
        "b49d39252d974a8cb5f9791768950919": {
          "model_module": "@jupyter-widgets/controls",
          "model_name": "DescriptionStyleModel",
          "model_module_version": "1.5.0",
          "state": {
            "_model_module": "@jupyter-widgets/controls",
            "_model_module_version": "1.5.0",
            "_model_name": "DescriptionStyleModel",
            "_view_count": null,
            "_view_module": "@jupyter-widgets/base",
            "_view_module_version": "1.2.0",
            "_view_name": "StyleView",
            "description_width": ""
          }
        }
      }
    }
  },
  "nbformat": 4,
  "nbformat_minor": 0
}